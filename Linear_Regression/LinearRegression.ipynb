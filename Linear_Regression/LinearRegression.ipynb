{
 "cells": [
  {
   "cell_type": "markdown",
   "metadata": {},
   "source": [
    "## My Learnings about Linear Regression\n",
    "\n",
    "**Disclaimer:** This notebook is a personal record of my understanding and explorations in linear regression. It should not be treated as definitive or authoritative, but rather a snapshot of my learning journey.\n",
    "\n",
    "### Overview\n",
    "- Linear regression is a method for modeling the relationship between one or more variables (features) and a expected output (target).\n",
    "- The goal is to find a linear function that best fits the data according to a chosen function or dataset, by minimizing the Mean Squared Error (MSE).\n",
    "\n"
   ]
  },
  {
   "cell_type": "markdown",
   "metadata": {},
   "source": [
    "### Linear Regression Overview\n",
    "\n",
    "Linear Regression considers the output as the result of a linear function of the input variables. The model is defined as:\n",
    "\n",
    "$$\n",
    "Y = w_0 + w_1 \\times X_1 + w_2 \\times X_2 + \\dots + w_n \\times X_n\n",
    "$$\n",
    "\n",
    "where:\n",
    "- **$w_0$** is the intercept,\n",
    "- **$w_1, w_2, \\dots, w_n$** are the coefficients corresponding to each feature $X_1, X_2, \\dots, X_n$.\n",
    "\n",
    "---\n",
    "\n",
    "### Matrix Representation of Input Data\n",
    "\n",
    "#### Input Matrix Without Intercept\n",
    "\n",
    "Assume you have \\(m\\) samples and \\(n\\) features. The input matrix \\(X\\) is organized as:\n",
    "\n",
    "$$\n",
    "X = \\begin{bmatrix}\n",
    "X_{11} & X_{12} & \\cdots & X_{1n} \\\\\n",
    "X_{21} & X_{22} & \\cdots & X_{2n} \\\\\n",
    "\\vdots & \\vdots & \\ddots & \\vdots \\\\\n",
    "X_{m1} & X_{m2} & \\cdots & X_{mn} \\\\\n",
    "\\end{bmatrix}\n",
    "$$\n",
    "\n",
    "Where $X_{ij}$ represents the _i_ th sample of the _j_th variable\\\\ \n",
    "\n",
    "If we use the dot product of \\(X\\) with a weight vector \\(W\\) where:\n",
    "\n",
    "$$\n",
    "W = \\begin{bmatrix}\n",
    "w_1 \\\\\n",
    "w_2 \\\\\n",
    "\\vdots \\\\\n",
    "w_n \\\\\n",
    "\\end{bmatrix}\n",
    "$$\n",
    "\n",
    "the resulting prediction is:\n",
    "\n",
    "$$\n",
    "X \\cdot W = \\begin{bmatrix}\n",
    "w_1X_{11} + w_2X_{12} + \\dots + w_nX_{1n} \\\\\n",
    "w_1X_{21} + w_2X_{22} + \\dots + w_nX_{2n} \\\\\n",
    "\\vdots \\\\\n",
    "w_1X_{m1} + w_2X_{m2} + \\dots + w_nX_{mn} \\\\\n",
    "\\end{bmatrix}\n",
    "$$\n",
    "\n",
    "Notice that this does not account for the intercept \\(w_0\\) and thus may be inaccurate.\n",
    "\n",
    "#### Accounting for the Intercept\n",
    "\n",
    "To include the intercept in our model, we augment the input matrix \\(X\\) by adding a column of  which is done in the above code by\\\\\n",
    "```sh\n",
    "    X_i = np.c_[np.ones((X.shape[0],1)),X]\n",
    "```\n",
    "\n",
    "where ```np.C_[a,b]``` concatenates two arrays _a_ and _b_ of similar height.\n",
    "\n",
    "This produces the new matrix \\(X_i\\):\n",
    "\n",
    "$$\n",
    "X_i = \\begin{bmatrix}\n",
    "1 & X_{11} & X_{12} & \\cdots & X_{1n} \\\\\n",
    "1 & X_{21} & X_{22} & \\cdots & X_{2n} \\\\\n",
    "\\vdots & \\vdots & \\vdots & \\ddots & \\vdots \\\\\n",
    "1 & X_{m1} & X_{m2} & \\cdots & X_{mn} \\\\\n",
    "\\end{bmatrix}\n",
    "$$\n",
    "\n",
    "The corresponding weight vector now includes \\(w_0\\):\n",
    "\n",
    "$$\n",
    "W_i = \\begin{bmatrix}\n",
    "w_0 \\\\\n",
    "w_1 \\\\\n",
    "\\vdots \\\\\n",
    "w_n \\\\\n",
    "\\end{bmatrix}\n",
    "$$\n",
    "\n",
    "The dot product becomes:\n",
    "\n",
    "$$\n",
    "X_i \\cdot W_i = \\begin{bmatrix}\n",
    "w_0 + w_1X_{11} + \\dots + w_nX_{1n} \\\\\n",
    "w_0 + w_1X_{21} + \\dots + w_nX_{2n} \\\\\n",
    "\\vdots \\\\\n",
    "w_0 + w_1X_{m1} + \\dots + w_nX_{mn} \\\\\n",
    "\\end{bmatrix}\n",
    "$$\n",
    "\n",
    "This formulation is equivalent to the linear model:\n",
    "\n",
    "$$\n",
    "Y = w_0 + w_1 \\times X_1 + w_2 \\times X_2 + \\dots + w_n \\times X_n\n",
    "$$\n",
    "\n",
    "---"
   ]
  },
  {
   "cell_type": "code",
   "execution_count": 5,
   "metadata": {},
   "outputs": [
    {
     "name": "stdout",
     "output_type": "stream",
     "text": [
      "Y without w0: [11.5]\n",
      "Y with w0: [6.5]\n"
     ]
    }
   ],
   "source": [
    "import numpy as np\n",
    "\n",
    "\n",
    "w0 = -5\n",
    "w = np.array([0.5, 1, 10])  # w1, w2, w3\n",
    "\n",
    "X = np.ones((1, 3))\n",
    "\n",
    "Y_without_w0 = np.dot(X, w)\n",
    "X_with_intercept = np.c_[(np.ones((1, 1)), X)]\n",
    "\n",
    "W_full = np.array([w0, 0.5, 1, 10])  # w0, w1, w2, w3\n",
    "\n",
    "Y_with_w0 = np.dot(X_with_intercept, W_full)\n",
    "\n",
    "print(\"Y without w0:\", Y_without_w0)\n",
    "print(\"Y with w0:\", Y_with_w0)\n"
   ]
  },
  {
   "cell_type": "markdown",
   "metadata": {},
   "source": [
    "### Linear Regression Without and With Intercept Term\n",
    "\n",
    "We assume the following weights:\n",
    "\n",
    "$$\n",
    "w_0 = -5, \\quad w_1 = 0.5, \\quad w_2 = 1, \\quad w_3 = 10\n",
    "$$\n",
    "\n",
    "#### Without Intercept (\\(w_0\\))\n",
    "\n",
    "We define \\( X \\) as:\n",
    "\n",
    "$$\n",
    "X = \\begin{bmatrix} 1 & 1 & 1 \\end{bmatrix}\n",
    "$$\n",
    "\n",
    "Performing the dot product with \\( w \\):\n",
    "\n",
    "$$\n",
    "Y_{\\text{without } w_0} = X \\cdot w = \\begin{bmatrix} 1 & 1 & 1 \\end{bmatrix} \\cdot \\begin{bmatrix} 0.5 \\\\ 1 \\\\ 10 \\end{bmatrix}\n",
    "$$\n",
    "\n",
    "$$\n",
    "Y_{\\text{without } w_0} = (1 \\times 0.5) + (1 \\times 1) + (1 \\times 10) = 11.5\n",
    "$$\n",
    "\n",
    "#### With Intercept (\\(w_0\\))\n",
    "\n",
    "To account for the intercept, we modify \\( X \\) by adding a column of ones:\n",
    "\n",
    "$$\n",
    "X_{\\text{with intercept}} = \\begin{bmatrix} 1 & 1 & 1 & 1 \\end{bmatrix}\n",
    "$$\n",
    "\n",
    "The new weight vector is:\n",
    "\n",
    "$$\n",
    "W_{\\text{full}} = \\begin{bmatrix} w_0 \\\\ w_1 \\\\ w_2 \\\\ w_3 \\end{bmatrix} = \\begin{bmatrix} -5 \\\\ 0.5 \\\\ 1 \\\\ 10 \\end{bmatrix}\n",
    "$$\n",
    "\n",
    "Now, performing the dot product:\n",
    "\n",
    "$$\n",
    "Y_{\\text{with } w_0} = X_{\\text{with intercept}} \\cdot W_{\\text{full}}\n",
    "$$\n",
    "\n",
    "$$\n",
    "Y_{\\text{with } w_0} = (1 \\times -5) + (1 \\times 0.5) + (1 \\times 1) + (1 \\times 10) = 6.5\n",
    "$$\n",
    "\n",
    "Thus, the results are:\n",
    "\n",
    "- **Without** $w_0$: $ 11.5 $\n",
    "- **With** $w_0$: $ 6.5 $\n"
   ]
  },
  {
   "cell_type": "markdown",
   "metadata": {},
   "source": [
    "---"
   ]
  },
  {
   "cell_type": "markdown",
   "metadata": {},
   "source": [
    "## Understanding Gradient Descent in Linear Regression\n",
    "\n",
    "### What Are Gradients?\n",
    "\n",
    "Gradients tell us how much a function changes if we adjust its inputs. It is essentially the derivative of the function. In machine learning, gradients help us figure out how to update weights to reduce error. \n",
    "\n",
    "For example, if we have a function:\n",
    "\n",
    "$$\n",
    "f(x) = x^2\n",
    "$$\n",
    "\n",
    "The gradient (derivative) is:\n",
    "\n",
    "$$\n",
    "\\frac{df}{dx} = 2x\n",
    "$$\n",
    "At $x = 3$ the gradient is $6$ meaning the function is increasing. If we want to minimize it, we should move in the opposite direction.  \n",
    "\n",
    "---\n",
    "\n",
    "### Why Do We Use Gradients in Linear Regression?\n",
    "\n",
    "In linear regression, we predict \n",
    "\n",
    "$$\n",
    "Y_{\\text{pred}} = W \\cdot X\n",
    "$$\n",
    "\n",
    "We want to find the best $W$ (weights) that minimize the difference between $Y_{\\text{pred}}$ and actual $Y$. This difference is called the error:\n",
    "\n",
    "$$\n",
    "\\text{error} = Y_{\\text{pred}} - Y\n",
    "$$\n",
    "\n",
    "We measure how big the errors are using Mean Squared Error (MSE):\n",
    "\n",
    "$$\n",
    "MSE = \\frac{1}{m} \\sum (Y_{\\text{pred}} - Y)^2\n",
    "$$\n",
    "\n",
    "To reduce this error, we update $W$ using gradients.  \n",
    "\n",
    "---\n",
    "\n",
    "### How Do Gradients Help?\n",
    "\n",
    "The gradient of MSE with respect to weights tells us:\n",
    "\n",
    "- **Direction**: Which way to move $W$ to reduce error.\n",
    "- **Magnitude**: How big the update should be.\n",
    "\n",
    "The formula for the gradient is:\n",
    "\n",
    "$$\n",
    "\\frac{2}{m} X^T \\cdot (Y_{\\text{pred}} - Y)\n",
    "$$\n",
    "\n",
    "It tells us how much each weight contributes to the error.\\\n",
    "We shall derive this formula later.\n",
    "\n",
    "---\n",
    "\n",
    "### Learning Rate and Weight Updates\n",
    "\n",
    "If we move too fast, we might miss the minimum. If we move too slow, learning takes forever. The **learning rate** $\\alpha$ controls this.  \n",
    "\n",
    "The weight update rule is:\n",
    "\n",
    "$$\n",
    "W_{\\text{new}} = W - \\alpha \\times \\text{gradient}\n",
    "$$\n",
    "\n",
    "If $\\alpha$ is too large, we might overshoot. If too small, learning is slow.\n",
    "\n",
    "---\n",
    "\n",
    "\n"
   ]
  },
  {
   "cell_type": "code",
   "execution_count": 6,
   "metadata": {},
   "outputs": [],
   "source": [
    "class LinearRegression:\n",
    "    def __init__(self, *args, **kwargs):\n",
    "        self.learning_rate = kwargs.get(\"learning_rate\",0.01)\n",
    "        self.iterations = kwargs.get(\"iterations\",1000)\n",
    "        self.seed=12\n",
    "        self.W=None\n",
    "        \n",
    "        if len(args)>2:\n",
    "            X=args[0]\n",
    "            Y=args[1]\n",
    "            try:\n",
    "                self.fit(X,Y)\n",
    "            except Exception as e:\n",
    "                print(f\"ERROR: {e}\")\n",
    "                \n",
    "    def process_input(self, X, Y=None, fit_mode=True):# the use of the process function is explained later\n",
    "        X = np.asarray(X)\n",
    "        \n",
    "        if X.ndim == 0:\n",
    "            X = X.reshape(1, 1)\n",
    "\n",
    "        elif X.ndim == 1:\n",
    "            if fit_mode:\n",
    "                X = X.reshape(-1, 1)\n",
    "            else:\n",
    "                X = X.reshape(1, -1)\n",
    "        \n",
    "        if fit_mode:\n",
    "            if Y is None:\n",
    "                raise ValueError(\"Y cannot be None during fit.\")\n",
    "            Y = np.asarray(Y)\n",
    "            if Y.ndim == 0:\n",
    "                Y = np.array([Y])\n",
    "            elif Y.ndim == 2 and Y.shape[1] == 1:\n",
    "                Y = Y.flatten()\n",
    "        \n",
    "        return X, Y            \n",
    "    \n",
    "    def fit(self,X,Y):#explained above\n",
    "        X_i = np.c_[np.ones((X.shape[0],1)),X] #Adds intercept to X so that line is more accurate\n",
    "        np.random.seed(self.seed)#adds some consistency to the random weights chosen\n",
    "        self.W=np.random.randn(X_i.shape[1])#set random weights\n",
    "        \n",
    "        for iteration in range(self.iterations):\n",
    "            y_pred = X_i.dot(self.W)\n",
    "            errors = y_pred - Y\n",
    "            \n",
    "            gradients = (2/len(X_i)) * X_i.T.dot(errors)\n",
    "            \n",
    "            NEW_W = self.W - self.learning_rate * gradients\n",
    "            \n",
    "            if np.any(np.isnan(NEW_W)) or np.any(np.isinf(NEW_W)):#exit when error occurs in updating gradient either due to high alpha or division by zero\n",
    "                print(f\"NaN or Inf encountered at iteration {iteration}\")\n",
    "                break\n",
    "            self.W=NEW_W\n",
    "        return self\n",
    "    \n",
    "    def predict(self,X):\n",
    "        X=np.array(X)\n",
    "        if X.ndim==0:\n",
    "            X=np.array([[X]])\n",
    "        elif X.ndim==1:\n",
    "            X=X.reshape(-1,1)\n",
    "        try:\n",
    "            X = np.c_[np.ones((X.shape[0],1)),X]\n",
    "            return X.dot(self.W)\n",
    "        except Exception as e:\n",
    "            print(f\"ERROR: {e}\")"
   ]
  },
  {
   "cell_type": "markdown",
   "metadata": {},
   "source": [
    "### Deriving the Gradient for Mean Squared Error (MSE)\n",
    "\n",
    "To find the gradient, we differentiate the Mean Squared Error (MSE) with respect to each weight in the weight vector $W$.\n",
    "\n",
    "---\n",
    "\n",
    "#### 1. Mean Squared Error (MSE) Definition\n",
    "\n",
    "The Mean Squared Error is:\n",
    "\n",
    "$$\n",
    "MSE = \\frac{1}{m} \\sum_{i=1}^{m} (Y_{\\text{pred}}^{(i)} - Y^{(i)})^2\n",
    "$$\n",
    "\n",
    "where:\n",
    "- $m$ is the number of samples,\n",
    "- $Y_{\\text{pred}}^{(i)}$ is the predicted value for sample $i$,\n",
    "- $Y^{(i)}$ is the actual value.\n",
    "\n",
    "The prediction is given by:\n",
    "\n",
    "$$\n",
    "Y_{\\text{pred}} = XW\n",
    "$$\n",
    "\n",
    "where $X$ is the feature matrix and $W$ is the weight vector.\n",
    "\n",
    "The error term is:\n",
    "\n",
    "$$\n",
    "\\text{error} = Y_{\\text{pred}} - Y\n",
    "$$\n",
    "\n",
    "---\n",
    "\n",
    "#### 2. Differentiating MSE with Respect to Each Weight\n",
    "\n",
    "We differentiate $MSE$ with respect to each weight $w_j$.\n",
    "\n",
    "##### **For the first weight $w_1$:**\n",
    "\n",
    "$$\n",
    "\\frac{\\partial MSE}{\\partial w_1} = \\frac{1}{m} \\sum_{i=1}^{m} 2 (Y_{\\text{pred}}^{(i)} - Y^{(i)}) \\frac{\\partial Y_{\\text{pred}}^{(i)}}{\\partial w_1}\n",
    "$$\n",
    "\n",
    "Since:\n",
    "\n",
    "$$\n",
    "Y_{\\text{pred}}^{(i)} = w_1 X_1^{(i)} + w_2 X_2^{(i)} + \\dots + w_n X_n^{(i)}\n",
    "$$\n",
    "\n",
    "we have:\n",
    "\n",
    "$$\n",
    "\\frac{\\partial Y_{\\text{pred}}^{(i)}}{\\partial w_1} = X_1^{(i)}\n",
    "$$\n",
    "\n",
    "Thus:\n",
    "\n",
    "$$\n",
    "\\frac{\\partial MSE}{\\partial w_1} = \\frac{2}{m} \\sum_{i=1}^{m} (Y_{\\text{pred}}^{(i)} - Y^{(i)}) X_1^{(i)}\n",
    "$$\n",
    "\n",
    "---\n",
    "\n",
    "##### **For the second weight $w_2$:**\n",
    "\n",
    "Similarly,\n",
    "\n",
    "$$\n",
    "\\frac{\\partial MSE}{\\partial w_2} = \\frac{2}{m} \\sum_{i=1}^{m} (Y_{\\text{pred}}^{(i)} - Y^{(i)}) X_2^{(i)}\n",
    "$$\n",
    "\n",
    "---\n",
    "\n",
    "##### **For the third weight $w_3$:**\n",
    "\n",
    "$$\n",
    "\\frac{\\partial MSE}{\\partial w_3} = \\frac{2}{m} \\sum_{i=1}^{m} (Y_{\\text{pred}}^{(i)} - Y^{(i)}) X_3^{(i)}\n",
    "$$\n",
    "\n",
    "---\n",
    "\n",
    "#### 3. Establishing the Pattern\n",
    "\n",
    "From the above, we see a general pattern:\n",
    "\n",
    "$$\n",
    "\\frac{\\partial MSE}{\\partial w_j} = \\frac{2}{m} \\sum_{i=1}^{m} (Y_{\\text{pred}}^{(i)} - Y^{(i)}) X_j^{(i)}\n",
    "$$\n",
    "\n",
    "Writing this for all weights in matrix form:\n",
    "\n",
    "$$\n",
    "\\text{gradient} = \\frac{2}{m} X^T \\cdot (Y_{\\text{pred}} - Y)\n",
    "$$\n",
    "\n",
    "This shows that instead of computing each derivative separately, we can efficiently compute all gradients at once using matrix multiplication.\n",
    "\n",
    "---\n"
   ]
  },
  {
   "cell_type": "code",
   "execution_count": 7,
   "metadata": {},
   "outputs": [],
   "source": [
    "def process_input(self, X, Y=None, fit_mode=True):\n",
    "        X = np.asarray(X)\n",
    "        \n",
    "        if X.ndim == 0:\n",
    "            X = X.reshape(1, 1)\n",
    "\n",
    "        elif X.ndim == 1:\n",
    "            if fit_mode:\n",
    "                X = X.reshape(-1, 1)\n",
    "            else:\n",
    "                X = X.reshape(1, -1)\n",
    "        \n",
    "        if fit_mode:\n",
    "            if Y is None:\n",
    "                raise ValueError(\"Y cannot be None during fit.\")\n",
    "            Y = np.asarray(Y)\n",
    "            if Y.ndim == 0:\n",
    "                Y = np.array([Y])\n",
    "            elif Y.ndim == 2 and Y.shape[1] == 1:\n",
    "                Y = Y.flatten()\n",
    "        \n",
    "        return X, Y     "
   ]
  },
  {
   "cell_type": "markdown",
   "metadata": {},
   "source": [
    "### Understanding the `process_input` Function  \n",
    "\n",
    "#### Purpose of the Function  \n",
    "\n",
    "The `process_input` function is used to preprocess input data \\( X \\) and target values \\( Y \\) before feeding them into a machine learning model. It ensures that the input dimensions are correctly formatted based on whether the function is used for fitting (training) or making predictions.  \n",
    "\n",
    "---\n",
    "\n",
    "#### Handling Input \\( X \\)  \n",
    "\n",
    "The function first converts \\( X \\) into a NumPy array to ensure it is in the correct format:  \n",
    "\n",
    "$$\n",
    "X = \\text{np.asarray}(X)\n",
    "$$\n",
    "\n",
    "Then, it adjusts the shape of \\( X \\) based on its number of dimensions (`ndim`):  \n",
    "\n",
    "- **If \\( X \\) is a scalar (0-dimensional)**  \n",
    "  $$ X = X.reshape(1,1) $$  \n",
    "  This ensures even a single value is treated as a 2D array.  \n",
    "\n",
    "- **If \\( X \\) is a 1D array**  \n",
    "  - **During fitting (`fit_mode=True`)**  \n",
    "    $$ X = X.reshape(-1,1) $$  \n",
    "    This reshapes it into a column vector, which is common when training models.  \n",
    "  - **During prediction (`fit_mode=False`)**  \n",
    "    $$ X = X.reshape(1,-1) $$  \n",
    "    This ensures that a single feature vector is treated as a row vector, making it compatible with model inference.  \n",
    "\n",
    "---\n",
    "\n",
    "#### Handling Target \\( Y \\) (Only in Fit Mode)  \n",
    "\n",
    "When `fit_mode` is `True`, the function ensures \\( Y \\) is correctly formatted:  \n",
    "\n",
    "- **If \\( Y \\) is missing**, an error is raised:  \n",
    "  $$ \\text{raise ValueError(\"Y cannot be None during fit.\")} $$  \n",
    "\n",
    "- **Convert \\( Y \\) to a NumPy array**  \n",
    "  $$ Y = \\text{np.asarray}(Y) $$  \n",
    "\n",
    "- **If \\( Y \\) is a scalar (0D), convert it into a 1D array**  \n",
    "  $$ Y = \\text{np.array}([Y]) $$  \n",
    "\n",
    "- **If \\( Y \\) is a 2D column vector (\\( m \\times 1 \\)), flatten it to a 1D array**  \n",
    "  $$ Y = Y.flatten() $$  \n",
    "\n",
    "This ensures \\( Y \\) is always a 1D array, which is the expected format for most machine learning models.  \n",
    "\n",
    "---\n",
    "\n",
    "#### Final Output  \n",
    "\n",
    "The function returns the processed \\( X \\) and \\( Y \\), ensuring they are correctly shaped for training or prediction."
   ]
  },
  {
   "cell_type": "markdown",
   "metadata": {},
   "source": [
    "---\n",
    "---\n",
    "---\n",
    "### Testing"
   ]
  },
  {
   "cell_type": "markdown",
   "metadata": {},
   "source": [
    "### **Multivariable Linear Regression Implementation**  "
   ]
  },
  {
   "cell_type": "code",
   "execution_count": 8,
   "metadata": {},
   "outputs": [],
   "source": [
    "import numpy as np\n",
    "import matplotlib.pyplot as plt"
   ]
  },
  {
   "cell_type": "markdown",
   "metadata": {},
   "source": [
    "- Importing **NumPy** for numerical operations and **Matplotlib** for visualization.  \n",
    "\n",
    "---"
   ]
  },
  {
   "cell_type": "code",
   "execution_count": 9,
   "metadata": {},
   "outputs": [],
   "source": [
    "X=np.array([np.linspace(0,1,1000),\n",
    "            np.linspace(0,1,1000),\n",
    "            np.linspace(0,1,1000)]).T"
   ]
  },
  {
   "cell_type": "markdown",
   "metadata": {},
   "source": [
    "- Creating a **3 variable feature matrix `X`**, where each **column** represents a different variable and each **row** is a different sample.  \n",
    "- `np.linspace(0,1,1000)` generates **1000 evenly spaced values** between `0` and `1` for each variable.  \n",
    "- `.T` transposes the array so that **each row is a sample** and **each column is a feature (X1, X2, X3)**.  \n",
    "\n",
    "---\n"
   ]
  },
  {
   "cell_type": "code",
   "execution_count": 10,
   "metadata": {},
   "outputs": [
    {
     "data": {
      "text/plain": [
       "'\\n    Below is a test of predicting MultiVariable Linear Regression using\\n    the formula Y=10*X1+20*X2-5*X3+78\\n    Pls do note implementation of LinearRegression only accepts X in the\\n    form where each column is a different variable and row is a different sample\\n    \\n    for X=scalar it auto converts to [[X]]\\n    for X=1D array it converts into a column vecotr form\\n'"
      ]
     },
     "execution_count": 10,
     "metadata": {},
     "output_type": "execute_result"
    }
   ],
   "source": [
    "\"\"\"\n",
    "    Below is a test of predicting MultiVariable Linear Regression using\n",
    "    the formula Y=10*X1+20*X2-5*X3+78\n",
    "    Pls do note implementation of LinearRegression only accepts X in the\n",
    "    form where each column is a different variable and row is a different sample\n",
    "    \n",
    "    for X=scalar it auto converts to [[X]]\n",
    "    for X=1D array it converts into a column vecotr form\n",
    "\"\"\""
   ]
  },
  {
   "cell_type": "markdown",
   "metadata": {},
   "source": [
    "\n",
    "- **Explanation of the model**:  \n",
    "  - The target variable `Y` is calculated using the equation:  \n",
    "    $$\n",
    "    Y = 10X_1 + 20X_2 - 5X_3 + 78\n",
    "    $$\n",
    "  - **`LinearRegression` expects `X` to be formatted** with columns as different variables and rows as samples.  \n",
    "  - If `X` is a **scalar**, it is **converted to** `[[X]]`.  \n",
    "  - If `X` is a **1D array**, it is **converted into a column vector**.  \n",
    "\n",
    "---"
   ]
  },
  {
   "cell_type": "code",
   "execution_count": 11,
   "metadata": {},
   "outputs": [],
   "source": [
    "X=(X-X.min())/(X.max()-X.min())"
   ]
  },
  {
   "cell_type": "markdown",
   "metadata": {},
   "source": [
    "\n",
    "- **Feature scaling (Normalization)**:  \n",
    "  - Ensures that all values are within `[0,1]`, preventing large weights during training.  \n",
    "  - Formula:  \n",
    "    $$\n",
    "    X_{\\text{normalized}} = \\frac{X - X_{\\min}}{X_{\\max} - X_{\\min}}\n",
    "    $$\n",
    "\n",
    "---\n"
   ]
  },
  {
   "cell_type": "code",
   "execution_count": 12,
   "metadata": {},
   "outputs": [],
   "source": [
    "model=LinearRegression(learning_rate=1e-3,iterations=int(1e5))"
   ]
  },
  {
   "cell_type": "markdown",
   "metadata": {},
   "source": [
    "\n",
    "- **Creating an instance of `LinearRegression`** with:  \n",
    "  - `learning_rate = 1e-3` (small step size for stable convergence).  \n",
    "  - `iterations = 10^5` (enough steps for optimization).  \n",
    "\n",
    "---\n"
   ]
  },
  {
   "cell_type": "code",
   "execution_count": 13,
   "metadata": {},
   "outputs": [],
   "source": [
    "Y=10*X[:,0]+20*X[:,1]-5*X[:,2]+78"
   ]
  },
  {
   "cell_type": "markdown",
   "metadata": {},
   "source": [
    "- **Generating target values (`Y`)** using the given formula.  \n",
    "- `X[:,0]`, `X[:,1]`, and `X[:,2]` refer to the **three input features** (columns of `X`).  \n",
    "\n",
    "---\n"
   ]
  },
  {
   "cell_type": "code",
   "execution_count": 14,
   "metadata": {},
   "outputs": [
    {
     "data": {
      "text/plain": [
       "<__main__.LinearRegression at 0x1f3792cd400>"
      ]
     },
     "execution_count": 14,
     "metadata": {},
     "output_type": "execute_result"
    }
   ],
   "source": [
    "model.fit(X,Y)"
   ]
  },
  {
   "cell_type": "markdown",
   "metadata": {},
   "source": [
    "\n",
    "- **Training the model** by adjusting weights to minimize the error between predictions and actual `Y`.  \n",
    "\n",
    "---"
   ]
  },
  {
   "cell_type": "code",
   "execution_count": 15,
   "metadata": {},
   "outputs": [],
   "source": [
    "pre=np.array([[100,100,100],\n",
    "              [10,10,10]])#each column is a diff variable"
   ]
  },
  {
   "cell_type": "markdown",
   "metadata": {},
   "source": [
    "\n",
    "- Creating a **test dataset** with two samples, each having three features (`X1, X2, X3`).  \n",
    "\n"
   ]
  },
  {
   "cell_type": "code",
   "execution_count": 16,
   "metadata": {},
   "outputs": [
    {
     "name": "stdout",
     "output_type": "stream",
     "text": [
      "[2578.00000001  328.        ]\n"
     ]
    }
   ],
   "source": [
    "y_pred=model.predict(pre)\n",
    "print(y_pred)"
   ]
  },
  {
   "cell_type": "markdown",
   "metadata": {},
   "source": [
    "\n",
    "- **Predicting `Y` values** for the test samples using the trained model.  \n",
    "\n",
    "---\n"
   ]
  },
  {
   "cell_type": "markdown",
   "metadata": {},
   "source": [
    "\n",
    "### **Single-Variable Linear Regression (Plottable Case)**  \n"
   ]
  },
  {
   "cell_type": "code",
   "execution_count": 17,
   "metadata": {},
   "outputs": [],
   "source": [
    "X=np.linspace(0,1,100)"
   ]
  },
  {
   "cell_type": "markdown",
   "metadata": {},
   "source": [
    "\n",
    "- **Creating 100 points** equally spaced between `0` and `1` as the input feature.  \n",
    "\n",
    "---\n"
   ]
  },
  {
   "cell_type": "code",
   "execution_count": 18,
   "metadata": {},
   "outputs": [],
   "source": [
    "Y=50.21*X-312"
   ]
  },
  {
   "cell_type": "markdown",
   "metadata": {},
   "source": [
    "\n",
    "- **Generating true `Y` values** using the equation:  \n",
    "  $$\n",
    "  Y = 50.21 X - 312\n",
    "  $$  \n",
    "\n",
    "---\n"
   ]
  },
  {
   "cell_type": "code",
   "execution_count": 19,
   "metadata": {},
   "outputs": [
    {
     "data": {
      "text/plain": [
       "<__main__.LinearRegression at 0x1f3792cd400>"
      ]
     },
     "execution_count": 19,
     "metadata": {},
     "output_type": "execute_result"
    }
   ],
   "source": [
    "model.fit(X,Y)"
   ]
  },
  {
   "cell_type": "markdown",
   "metadata": {},
   "source": [
    "\n",
    "- **Training the model** to learn the linear relationship between `X` and `Y`.  \n",
    "\n",
    "---\n"
   ]
  },
  {
   "cell_type": "markdown",
   "metadata": {},
   "source": [
    "\n",
    "- **Adding random noise** with mean `0` and standard deviation `1` to simulate real-world data variability.  \n",
    "\n",
    "---\n"
   ]
  },
  {
   "cell_type": "code",
   "execution_count": 20,
   "metadata": {},
   "outputs": [],
   "source": [
    "noise=np.random.normal(0,1,size=X.shape)"
   ]
  },
  {
   "cell_type": "markdown",
   "metadata": {},
   "source": [
    "\n",
    "- **Updating `Y` with noise** to introduce imperfections in the data.  \n",
    "\n",
    "---\n"
   ]
  },
  {
   "cell_type": "code",
   "execution_count": 21,
   "metadata": {},
   "outputs": [],
   "source": [
    "Y=Y+noise"
   ]
  },
  {
   "cell_type": "markdown",
   "metadata": {},
   "source": [
    "\n",
    "- **Predicting `Y` values** using the trained model.  \n",
    "\n",
    "---\n"
   ]
  },
  {
   "cell_type": "code",
   "execution_count": 22,
   "metadata": {},
   "outputs": [],
   "source": [
    "y_pred=model.predict(X)"
   ]
  },
  {
   "cell_type": "markdown",
   "metadata": {},
   "source": [
    "\n",
    "- **Plotting the noisy experimental data points** in **light gray**.  \n",
    "\n",
    "- **Plotting the predicted regression line** in **red**.  \n",
    "\n",
    "- **Displaying the graph** with labels and a legend.  \n",
    "\n",
    "---\n"
   ]
  },
  {
   "cell_type": "code",
   "execution_count": 26,
   "metadata": {},
   "outputs": [
    {
     "data": {
      "image/png": "[encoded data removed]",
      "text/plain": [
       "<Figure size 640x480 with 1 Axes>"
      ]
     },
     "metadata": {},
     "output_type": "display_data"
    }
   ],
   "source": [
    "plt.xlabel('X')\n",
    "plt.ylabel('Y')\n",
    "plt.plot(X,y_pred,color=\"red\",label=\"predicted\")\n",
    "plt.scatter(X,Y,color=\"lightgray\",s=5,label=\"Experimental\")\n",
    "plt.legend()\n",
    "plt.show()"
   ]
  },
  {
   "cell_type": "markdown",
   "metadata": {},
   "source": [
    "\n",
    "### **Conclusion**\n",
    "- **Multivariable regression** was tested on a synthetic dataset with three input variables.  \n",
    "- **Single-variable regression** was visualized, showing that despite noise, the model still predicts well."
   ]
  }
 ],
 "metadata": {
  "kernelspec": {
   "display_name": ".venv",
   "language": "python",
   "name": "python3"
  },
  "language_info": {
   "codemirror_mode": {
    "name": "ipython",
    "version": 3
   },
   "file_extension": ".py",
   "mimetype": "text/x-python",
   "name": "python",
   "nbconvert_exporter": "python",
   "pygments_lexer": "ipython3",
   "version": "3.13.1"
  }
 },
 "nbformat": 4,
 "nbformat_minor": 2
}
